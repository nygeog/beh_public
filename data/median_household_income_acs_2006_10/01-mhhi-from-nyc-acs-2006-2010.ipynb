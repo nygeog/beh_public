{
 "metadata": {
  "name": ""
 },
 "nbformat": 3,
 "nbformat_minor": 0,
 "worksheets": [
  {
   "cells": [
    {
     "cell_type": "code",
     "collapsed": false,
     "input": [
      "import pandas as pd\n",
      "\n",
      "pd.options.display.max_columns = 5200\n",
      "pd.options.display.max_rows    = 5200\n",
      "\n",
      "inCSV = '/Users/danielmsheehan/GitHub/beh_public/data/acs_2006_10/ct10_acs_2006_2010.csv'\n",
      "ouCSV = '/Users/danielmsheehan/GitHub/beh_public/data/median_household_income_acs_2006_10/ct10_acs_2006_2010.csv'\n",
      "\n",
      "\n",
      "df = pd.read_csv(inCSV)\n",
      "\n",
      "#list(df.columns.values)\n",
      "\n",
      "df = df[['t10_key','t10_057001m']]\n",
      "\n",
      "df.to_csv(ouCSV, index=False)\n",
      "\n",
      "df.head(5)"
     ],
     "language": "python",
     "metadata": {},
     "outputs": [
      {
       "html": [
        "<div style=\"max-height:1000px;max-width:1500px;overflow:auto;\">\n",
        "<table border=\"1\" class=\"dataframe\">\n",
        "  <thead>\n",
        "    <tr style=\"text-align: right;\">\n",
        "      <th></th>\n",
        "      <th>t10_key</th>\n",
        "      <th>t10_057001m</th>\n",
        "    </tr>\n",
        "  </thead>\n",
        "  <tbody>\n",
        "    <tr>\n",
        "      <th>0</th>\n",
        "      <td> 36005000100</td>\n",
        "      <td>     0</td>\n",
        "    </tr>\n",
        "    <tr>\n",
        "      <th>1</th>\n",
        "      <td> 36005000200</td>\n",
        "      <td> 59826</td>\n",
        "    </tr>\n",
        "    <tr>\n",
        "      <th>2</th>\n",
        "      <td> 36005000400</td>\n",
        "      <td> 71968</td>\n",
        "    </tr>\n",
        "    <tr>\n",
        "      <th>3</th>\n",
        "      <td> 36005001600</td>\n",
        "      <td> 30355</td>\n",
        "    </tr>\n",
        "    <tr>\n",
        "      <th>4</th>\n",
        "      <td> 36005001900</td>\n",
        "      <td> 25093</td>\n",
        "    </tr>\n",
        "  </tbody>\n",
        "</table>\n",
        "</div>"
       ],
       "metadata": {},
       "output_type": "pyout",
       "prompt_number": 9,
       "text": [
        "       t10_key  t10_057001m\n",
        "0  36005000100            0\n",
        "1  36005000200        59826\n",
        "2  36005000400        71968\n",
        "3  36005001600        30355\n",
        "4  36005001900        25093"
       ]
      }
     ],
     "prompt_number": 9
    },
    {
     "cell_type": "code",
     "collapsed": false,
     "input": [],
     "language": "python",
     "metadata": {},
     "outputs": []
    }
   ],
   "metadata": {}
  }
 ]
}