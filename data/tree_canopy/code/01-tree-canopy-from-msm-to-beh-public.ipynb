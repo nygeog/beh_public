{
 "metadata": {
  "name": ""
 },
 "nbformat": 3,
 "nbformat_minor": 0,
 "worksheets": [
  {
   "cells": [
    {
     "cell_type": "code",
     "collapsed": false,
     "input": [
      "import pandas as pd\n",
      "\n",
      "pd.options.display.max_columns = 5200\n",
      "pd.options.display.max_rows    = 5200\n",
      "\n",
      "inCSV = '/Volumes/Echo/GIS/projects/msm/tasks/201410_all_tracts/data/tables/treedn/all_trees.csv'\n",
      "ouCSV = '/Users/danielmsheehan/GitHub/beh_public/data/tree_canopy/data/ct10_tree_canopy.csv'\n",
      "\n",
      "df = pd.read_csv(inCSV)\n",
      "\n",
      "df['cttreepcthoodcanopy'] = df['cttreecanopyareasqmtr'] / df['ctareasqmtr']\n",
      "\n",
      "df.to_csv(ouCSV, index=False)\n",
      "\n",
      "df.head(2700)"
     ],
     "language": "python",
     "metadata": {},
     "outputs": [],
     "prompt_number": 5
    },
    {
     "cell_type": "code",
     "collapsed": false,
     "input": [],
     "language": "python",
     "metadata": {},
     "outputs": []
    }
   ],
   "metadata": {}
  }
 ]
}