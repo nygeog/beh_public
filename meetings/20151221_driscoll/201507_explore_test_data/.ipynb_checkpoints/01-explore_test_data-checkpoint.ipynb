{
 "metadata": {
  "name": "",
  "signature": "sha256:5fef2847775daf51f7fa33be18de79ad85bb813123ae3b3ab29a2dc97da149d0"
 },
 "nbformat": 3,
 "nbformat_minor": 0,
 "worksheets": [
  {
   "cells": [
    {
     "cell_type": "markdown",
     "metadata": {},
     "source": [
      "[Actical Product Webpage](http://www.healthcare.philips.com/pwc_hc/main/homehealth/sleep/actical/#&&/wEXAQUOY3VycmVudFRhYlBhdGgFEERldGFpbHM6T3ZlcnZpZXdwGB6s7Z5i1iyK2qCyu+ZlAjHM5w==)\n"
     ]
    },
    {
     "cell_type": "code",
     "collapsed": false,
     "input": [
      "import pandas as pd\n",
      "\n",
      "inCSV = 'data/SLD wrist 4.18.15.csv'\n",
      "\n",
      "df = pd.read_csv(inCSV)"
     ],
     "language": "python",
     "metadata": {},
     "outputs": [],
     "prompt_number": 6
    },
    {
     "cell_type": "code",
     "collapsed": false,
     "input": [
      "df.head(50)"
     ],
     "language": "python",
     "metadata": {},
     "outputs": [
      {
       "html": [
        "<pre>\n",
        "&lt;class 'pandas.core.frame.DataFrame'&gt;\n",
        "Int64Index: 50 entries, 0 to 49\n",
        "Data columns (total 36 columns):\n",
        "Actical Export File  (Version 03.00)    45  non-null values\n",
        "Unnamed: 1                              44  non-null values\n",
        "Unnamed: 2                              36  non-null values\n",
        "Unnamed: 3                              26  non-null values\n",
        "Unnamed: 4                              26  non-null values\n",
        "Unnamed: 5                              26  non-null values\n",
        "Unnamed: 6                              26  non-null values\n",
        "Unnamed: 7                              26  non-null values\n",
        "Unnamed: 8                              11  non-null values\n",
        "Unnamed: 9                              11  non-null values\n",
        "Unnamed: 10                             11  non-null values\n",
        "Unnamed: 11                             11  non-null values\n",
        "Unnamed: 12                             11  non-null values\n",
        "Unnamed: 13                             11  non-null values\n",
        "Unnamed: 14                             11  non-null values\n",
        "Unnamed: 15                             11  non-null values\n",
        "Unnamed: 16                             10  non-null values\n",
        "Unnamed: 17                             11  non-null values\n",
        "Unnamed: 18                             10  non-null values\n",
        "Unnamed: 19                             1  non-null values\n",
        "Unnamed: 20                             11  non-null values\n",
        "Unnamed: 21                             11  non-null values\n",
        "Unnamed: 22                             11  non-null values\n",
        "Unnamed: 23                             11  non-null values\n",
        "Unnamed: 24                             11  non-null values\n",
        "Unnamed: 25                             11  non-null values\n",
        "Unnamed: 26                             11  non-null values\n",
        "Unnamed: 27                             11  non-null values\n",
        "Unnamed: 28                             11  non-null values\n",
        "Unnamed: 29                             11  non-null values\n",
        "Unnamed: 30                             11  non-null values\n",
        "Unnamed: 31                             11  non-null values\n",
        "Unnamed: 32                             10  non-null values\n",
        "Unnamed: 33                             11  non-null values\n",
        "Unnamed: 34                             10  non-null values\n",
        "Unnamed: 35                             1  non-null values\n",
        "dtypes: object(36)\n",
        "</pre>"
       ],
       "metadata": {},
       "output_type": "pyout",
       "prompt_number": 7,
       "text": [
        "<class 'pandas.core.frame.DataFrame'>\n",
        "Int64Index: 50 entries, 0 to 49\n",
        "Data columns (total 36 columns):\n",
        "Actical Export File  (Version 03.00)    45  non-null values\n",
        "Unnamed: 1                              44  non-null values\n",
        "Unnamed: 2                              36  non-null values\n",
        "Unnamed: 3                              26  non-null values\n",
        "Unnamed: 4                              26  non-null values\n",
        "Unnamed: 5                              26  non-null values\n",
        "Unnamed: 6                              26  non-null values\n",
        "Unnamed: 7                              26  non-null values\n",
        "Unnamed: 8                              11  non-null values\n",
        "Unnamed: 9                              11  non-null values\n",
        "Unnamed: 10                             11  non-null values\n",
        "Unnamed: 11                             11  non-null values\n",
        "Unnamed: 12                             11  non-null values\n",
        "Unnamed: 13                             11  non-null values\n",
        "Unnamed: 14                             11  non-null values\n",
        "Unnamed: 15                             11  non-null values\n",
        "Unnamed: 16                             10  non-null values\n",
        "Unnamed: 17                             11  non-null values\n",
        "Unnamed: 18                             10  non-null values\n",
        "Unnamed: 19                             1  non-null values\n",
        "Unnamed: 20                             11  non-null values\n",
        "Unnamed: 21                             11  non-null values\n",
        "Unnamed: 22                             11  non-null values\n",
        "Unnamed: 23                             11  non-null values\n",
        "Unnamed: 24                             11  non-null values\n",
        "Unnamed: 25                             11  non-null values\n",
        "Unnamed: 26                             11  non-null values\n",
        "Unnamed: 27                             11  non-null values\n",
        "Unnamed: 28                             11  non-null values\n",
        "Unnamed: 29                             11  non-null values\n",
        "Unnamed: 30                             11  non-null values\n",
        "Unnamed: 31                             11  non-null values\n",
        "Unnamed: 32                             10  non-null values\n",
        "Unnamed: 33                             11  non-null values\n",
        "Unnamed: 34                             10  non-null values\n",
        "Unnamed: 35                             1  non-null values\n",
        "dtypes: object(36)"
       ]
      }
     ],
     "prompt_number": 7
    },
    {
     "cell_type": "code",
     "collapsed": false,
     "input": [],
     "language": "python",
     "metadata": {},
     "outputs": []
    }
   ],
   "metadata": {}
  }
 ]
}